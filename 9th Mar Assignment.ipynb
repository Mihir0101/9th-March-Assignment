{
 "cells": [
  {
   "cell_type": "markdown",
   "id": "77d73683-7720-4ec2-8582-49b5a9195213",
   "metadata": {},
   "source": [
    "# 9th March Assignment"
   ]
  },
  {
   "cell_type": "code",
   "execution_count": null,
   "id": "ea217b0d-74c5-47a4-842a-e5d595a3faac",
   "metadata": {},
   "outputs": [],
   "source": []
  },
  {
   "cell_type": "markdown",
   "id": "6079259b-2930-43d6-8fd7-0916003bbe23",
   "metadata": {},
   "source": [
    "Q1: What are the Probability Mass Function (PMF) and Probability Density Function (PDF)? Explain with\n",
    "an example."
   ]
  },
  {
   "cell_type": "markdown",
   "id": "7e084e9c-a6ae-45bb-85a9-94d911bcda37",
   "metadata": {},
   "source": [
    "-> Probability Mass Function and Probability Density Function are used to distribute different types of data.\n",
    "\n",
    "-> They are also used for find the probability."
   ]
  },
  {
   "cell_type": "markdown",
   "id": "ea71719d-b324-4082-9403-1a0eafb7f0b6",
   "metadata": {},
   "source": [
    "1. Probability Mass Function\n",
    "\n",
    "-> PMF function is used to distribute discrete random variable.\n",
    "\n",
    "* Example\n",
    "\n",
    "-> Let's consider an example of rolling a fair six-sided die.\n",
    "\n",
    "P(X = 1) = 1/6\n",
    "\n",
    "P(X = 2) = 1/6\n",
    "\n",
    "P(X = 3) = 1/6\n",
    "\n",
    "P(X = 4) = 1/6\n",
    "\n",
    "P(X = 5) = 1/6\n",
    "\n",
    "P(X = 6) = 1/6"
   ]
  },
  {
   "cell_type": "markdown",
   "id": "77b1625c-d297-4fa2-b28b-63253eaf3ea2",
   "metadata": {},
   "source": [
    "2. Probability Density Function\n",
    "\n",
    "-> PDF function is also used to distribute continuous random variable.\n",
    "\n",
    "-> PDF does not give probability value,it gives probability density as a perticular value.\n",
    "\n",
    "-> Probability Density = Gradiant of the Cumulative Curve.\n",
    "\n",
    "* Example\n",
    "\n",
    "For example, let's consider a continuous random variable X representing the height of adult males. The PDF for this variable might be a normal distribution with a mean of 180 cm and a standard deviation of 10 cm. The PDF would be represented by a bell-shaped curve, and the height at any specific point on the curve represents the probability density at that point."
   ]
  },
  {
   "cell_type": "code",
   "execution_count": null,
   "id": "8e07aab7-410f-4a9f-afd3-1f074745cdcd",
   "metadata": {},
   "outputs": [],
   "source": []
  },
  {
   "cell_type": "markdown",
   "id": "c7c7d6ba-3288-48a5-8574-5a683f33cf69",
   "metadata": {},
   "source": [
    "Q2: What is Cumulative Density Function (CDF)? Explain with an example. Why CDF is used?"
   ]
  },
  {
   "cell_type": "markdown",
   "id": "fbfef538-1f68-40ee-81d9-37fafde89d2d",
   "metadata": {},
   "source": [
    "-> The Cumulative Density Function (CDF) is a  function that describes the probability that a random variable takes on a value less than or equal to a given value.\n",
    "\n",
    "-> CDF function is used to find the Probability density.\n",
    "* Example :\n",
    "\n",
    "Let's consider a random variable X that represents the height of students in a class. The CDF of X would give you the probability of finding a student with a height less than or equal to a certain value.\n",
    "\n",
    "Suppose we have the following heights (in centimeters) of students in the class: {150, 155, 160, 165, 170, 175}. To calculate the CDF for a specific value, let's say x = 165 cm, you would count the number of students with a height less than or equal to 165 cm, which in this case is 4. Since there are 6 students in total, the probability would be 4/6 .\n",
    "\n",
    "So, the CDF for x = 165 cm would be CDF(165) = P(X ≤ 165) =4/6.\n",
    "\n",
    "* Use of CDF :\n",
    "\n",
    "-> CDF allows us to calculate the probability of a random variable falling within a specific range or being less than or equal to a particular value.\n",
    "\n",
    "-> we can find the height below which a certain percentage of students fall.\n",
    "\n",
    "-> CDF provides a way to compare and contrast different probability distributions."
   ]
  },
  {
   "cell_type": "code",
   "execution_count": null,
   "id": "666c07ab-0703-428a-8fd9-ff9393145e89",
   "metadata": {},
   "outputs": [],
   "source": []
  },
  {
   "cell_type": "markdown",
   "id": "6ded1e90-131a-4d15-898b-f39cdb6c2417",
   "metadata": {},
   "source": [
    "Q3: What are some examples of situations where the normal distribution might be used as a model?\n"
   ]
  },
  {
   "cell_type": "markdown",
   "id": "6919a300-668d-43cd-8784-163d6ec1d5e1",
   "metadata": {},
   "source": [
    "-> A Normal Distribution or Guassion Distribution is used in many field due to its mathematical properties.\n",
    "\n",
    "* Uses of Guassion Distribution or Normal Distribution\n",
    "\n",
    "1. Height of persons\n",
    "\n",
    "2. Weight of object\n",
    "\n",
    "3. To measure IQ\n",
    "\n",
    "4. Describe stock market price"
   ]
  },
  {
   "cell_type": "markdown",
   "id": "92e41f06-134b-4f9c-9b8d-81004598e872",
   "metadata": {},
   "source": [
    "\n",
    "Explain how the parameters of the normal distribution relate to the shape of the distribution."
   ]
  },
  {
   "cell_type": "markdown",
   "id": "43304cd0-1c98-497f-bace-aaccad0c97ea",
   "metadata": {},
   "source": [
    "* Parameters of Normal Distribution\n",
    "\n",
    "1. Mean\n",
    "\n",
    "-> Mean defines center of the distribution.\n",
    "\n",
    "-> It is most probable value of distribution.\n",
    "\n",
    "2. Standard Deviation\n",
    "\n",
    "-> Standard Deviation describes the elements of the distribution.\n",
    "\n",
    "-> We can know that where an element lie in the distribution.\n",
    "\n",
    "-> 68% data falls in first std,95% data falls in second std and 99.7% data falls in third std.With the use of this we can get usefull informations."
   ]
  },
  {
   "cell_type": "code",
   "execution_count": null,
   "id": "e32aff8a-6730-4fd8-99c4-47ab41604275",
   "metadata": {},
   "outputs": [],
   "source": []
  },
  {
   "cell_type": "markdown",
   "id": "d0949fcb-a7f4-40d4-ad2e-e1c7567b0009",
   "metadata": {},
   "source": [
    "Q4: Explain the importance of Normal Distribution. Give a few real-life examples of Normal\n",
    "Distribution."
   ]
  },
  {
   "cell_type": "markdown",
   "id": "d07e37db-890b-4942-8f8b-0ef1838858d0",
   "metadata": {},
   "source": [
    "* Importance of Guassion Distribution\n",
    "\n",
    "1. Central Limit Theorem: The normal distribution plays very important role in the Central Limit Theorem (CLT).This theorem allows researchers to make inferences about population parameters based on sample data and is fundamental in statistical inference.\n",
    "\n",
    "2. Statistical Inference: The normal distribution is extensively used in statistical inference. Many statistical techniques, such as hypothesis testing, confidence intervals, and regression analysis, rely on assumptions of normality. When data follows a normal distribution, it enables the application of powerful and well-established statistical methods.\n",
    "\n",
    "\n",
    "\n",
    "* Real-life Examples\n",
    "\n",
    "1. Measure Height\n",
    "\n",
    "2. IQ Score\n",
    "\n",
    "3. Measure Weight\n",
    "\n",
    "4. Stock Market\n"
   ]
  },
  {
   "cell_type": "code",
   "execution_count": null,
   "id": "d262c637-e307-493f-b248-db4904d30633",
   "metadata": {},
   "outputs": [],
   "source": []
  },
  {
   "cell_type": "markdown",
   "id": "997cd4ff-2549-4946-a5c1-4405bc10bce7",
   "metadata": {},
   "source": [
    "Q5: What is Bernaulli Distribution? Give an Example. What is the difference between Bernoulli\n",
    "Distribution and Binomial Distribution?"
   ]
  },
  {
   "cell_type": "markdown",
   "id": "9f4e2233-7fb2-40dd-86af-07b08fcdbc44",
   "metadata": {},
   "source": [
    "* Bernouli Distribution\n",
    "\n",
    "-> Bernouli Distribution consist two outcomes,success and failure.\n",
    "\n",
    "-> Notation : Ber(p)\n",
    "\n",
    "-> PMF : p^x * (1 - p)^(1 - x)\n",
    "\n",
    "* Example\n",
    "\n",
    "Let's take a example of coin flip.\n",
    "\n",
    "If the coin is faire the probability of coming heads or tail is 1/2.We car consider head as success and tail as failure.\n",
    "\n",
    "* Difference Between Bernoulli Distribution and Binomial Distribution\n",
    "\n",
    "1. Trails : Bernoulti distribution is a single experimental trail with two outcomes,on other hand in Binomial distribution we can perform task multipule times.\n",
    "\n",
    "2. Parameters :\n",
    "\n",
    "Bernouli Distribution -> p\n",
    "\n",
    "Binomial Distribution -> n and p\n",
    "\n",
    "3. PMF :\n",
    "\n",
    "Bernouli Distribution -> p^k * (1 - p)^(1 - k)\n",
    "\n",
    "Binomial Distribution -> C(n, k) * p^k * (1 - p)^(n - k)\n"
   ]
  },
  {
   "cell_type": "code",
   "execution_count": null,
   "id": "a6ec31fe-9552-410c-a3d4-95e2ebacd4ae",
   "metadata": {},
   "outputs": [],
   "source": []
  },
  {
   "cell_type": "markdown",
   "id": "b61d8a40-f85e-4feb-aad5-cc24d9db8181",
   "metadata": {},
   "source": [
    "Q6. Consider a dataset with a mean of 50 and a standard deviation of 10. If we assume that the dataset\n",
    "is normally distributed, what is the probability that a randomly selected observation will be greater\n",
    "than 60? Use the appropriate formula and show your calculations."
   ]
  },
  {
   "cell_type": "markdown",
   "id": "b7f6cf30-afbf-4a16-b4f3-a48c4a3f9a25",
   "metadata": {},
   "source": [
    "* Z-Score\n",
    "\n",
    "z = ( Xi - μ ) / σ\n",
    "\n",
    "  = (60 - 50) / 10\n",
    " \n",
    "  = 1\n",
    "\n",
    "-> We have to find Z-Value of 1 using Z-Table.\n",
    "\n",
    "\n",
    "P(Z > 1) =  1 - 0.8413 \n",
    "\n",
    "         = 0.1587\n",
    "\n",
    "* Probability that a randomly selected observation will be greater than 60 is 15.866% ."
   ]
  },
  {
   "cell_type": "code",
   "execution_count": null,
   "id": "622702fb-4f1a-4cab-bf03-db7cce659b66",
   "metadata": {},
   "outputs": [],
   "source": []
  },
  {
   "cell_type": "markdown",
   "id": "d429d305-6314-4cef-bc9b-d6f7c8c213ee",
   "metadata": {},
   "source": [
    "Q7: Explain uniform Distribution with an example."
   ]
  },
  {
   "cell_type": "markdown",
   "id": "8e26a27b-0e06-4210-a169-daf86fcf50fc",
   "metadata": {},
   "source": [
    "* Uniform Distribution\n",
    "\n",
    "-> There is two types of uniform distribution : \n",
    "    \n",
    "    (i) Continuous Uniform Distribution \n",
    "    \n",
    "    (ii) Discrete Uniform Distribution\n",
    "\n",
    "-> In this distribution, outcome lies between two bounds.\n",
    "\n",
    "-> We can define that boundries with a & b,where a is maximum and b is minimum.\n",
    "\n",
    "* (i) Continuous Uniform Distribution\n",
    "\n",
    "-> The bounds are define by a and b,which are minimum and maximum.\n",
    "\n",
    "-> Notation : U(a,b)\n",
    "\n",
    "-> PDF : 1/b-a\n",
    "\n",
    "* (ii) Discrete Uniform Distribution\n",
    "\n",
    "-> Notation : U(a,b)\n",
    "\n",
    "-> PMF : 1/n,where n=b-a+1"
   ]
  },
  {
   "cell_type": "code",
   "execution_count": null,
   "id": "d5c23807-96fc-4e06-bd85-44f73eb015e7",
   "metadata": {},
   "outputs": [],
   "source": []
  },
  {
   "cell_type": "markdown",
   "id": "af7a58e6-66cb-47b5-9fa2-eb5c417fc713",
   "metadata": {},
   "source": [
    "Q8: What is the z score? State the importance of the z score."
   ]
  },
  {
   "cell_type": "markdown",
   "id": "0a87afb8-e4c1-444f-b828-52cf1a13a889",
   "metadata": {},
   "source": [
    "-> The z-score, also known as the standard score, is a measure that represents how many standard deviations a given data point is away from the mean of a distribution. \n",
    "\n",
    "-> z-score = (x - μ) / σ\n",
    "\n",
    "* Importance of Z-score\n",
    "\n",
    "1.Outlier Detection: The z-score helps in identifying outliers in a dataset. Data points with z-scores that are significantly larger or smaller than the mean may indicate extreme or unusual observations.\n",
    "\n",
    "2.Probability Estimation: The z-score is used in determining probabilities associated with specific values or ranges in a normal distribution. By referring to a standard normal distribution table or using statistical software, probabilities can be estimated based on the z-score.\n",
    "\n",
    "3.Hypothesis Testing: The z-score is essential in hypothesis testing and determining statistical significance. It allows researchers to compare sample means to population means and make inferences about the likelihood of observing a certain result by chance."
   ]
  },
  {
   "cell_type": "code",
   "execution_count": null,
   "id": "26b70c49-30e0-4956-83eb-4c73408254c2",
   "metadata": {},
   "outputs": [],
   "source": []
  },
  {
   "cell_type": "markdown",
   "id": "5a704aca-7798-4c9d-b9e1-ead5aac859d5",
   "metadata": {},
   "source": [
    "Q9: What is Central Limit Theorem? State the significance of the Central Limit Theorem."
   ]
  },
  {
   "cell_type": "markdown",
   "id": "50bcb810-229d-473f-9493-4a3837547b22",
   "metadata": {},
   "source": [
    "* Central Limit Theorem\n",
    "\n",
    "-> CLT says that if there is normal distribution and we make samples of the elements and find the mean of sample,after doing that when we distribute that sample mean then we will find normal or guassion distribution.\n",
    "\n",
    "-> On the other hand if there is non-guassion distribution and the size of elements is great than or equal to 30 and we find the sample mean of that and distribute those means so we wil also find guassion or normal distribution.\n",
    "\n",
    "* State the significance of the Central Limit Theorem\n",
    "\n",
    "1. Normality Assumption: The CLT allows us to assume that many real-world phenomena.\n",
    "\n",
    "2. Sampling Distribution: The CLT provides insights into the behavior of sample means. It states that regardless of the shape of the population distribution, the distribution of sample means tends to be approximately normal when the sample size is large. This allows us to understand the characteristics of the sampling distribution and draw conclusions about the population.\n",
    "\n",
    "3. Data Analysis: The CLT enables the analysis of complex data sets.\n",
    "\n",
    "4. Estimation and Prediction: By assuming normality, we can use the properties of the normal distribution to estimate population parameters, make predictions about future observations, and calculate confidence intervals."
   ]
  },
  {
   "cell_type": "code",
   "execution_count": null,
   "id": "3bac8844-5811-486b-9e7d-898038e7d0c3",
   "metadata": {},
   "outputs": [],
   "source": []
  },
  {
   "cell_type": "markdown",
   "id": "7e46d31a-e606-4bc4-aa64-e3cf9a1e3f19",
   "metadata": {},
   "source": [
    "Q10: State the assumptions of the Central Limit Theorem."
   ]
  },
  {
   "cell_type": "markdown",
   "id": "2b644149-0401-4c21-bafd-aa3f0254a723",
   "metadata": {},
   "source": [
    "1. Independence: The random variables being considered must be independent of each other. This means that the outcome of one variable does not affect the outcome of another.\n",
    "\n",
    "2. Identically Distributed: The random variables should be identically distributed. This means that they have the same probability distribution, including the same mean and standard deviation.\n",
    "\n",
    "3. Finite Variance: The variables should have a finite variance. Variance measures the spread or variability of the data. It should not be infinite or undefined.\n",
    "\n",
    "4. Sample Size: Sample size must be atleat 30."
   ]
  },
  {
   "cell_type": "code",
   "execution_count": null,
   "id": "94703e97-fb1d-4669-8494-976f3927b567",
   "metadata": {},
   "outputs": [],
   "source": []
  }
 ],
 "metadata": {
  "kernelspec": {
   "display_name": "Python 3 (ipykernel)",
   "language": "python",
   "name": "python3"
  },
  "language_info": {
   "codemirror_mode": {
    "name": "ipython",
    "version": 3
   },
   "file_extension": ".py",
   "mimetype": "text/x-python",
   "name": "python",
   "nbconvert_exporter": "python",
   "pygments_lexer": "ipython3",
   "version": "3.10.8"
  }
 },
 "nbformat": 4,
 "nbformat_minor": 5
}
